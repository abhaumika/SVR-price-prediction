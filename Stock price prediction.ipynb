{
 "cells": [
  {
   "cell_type": "code",
   "execution_count": 1,
   "id": "e38afdb2",
   "metadata": {},
   "outputs": [],
   "source": [
    "# linear,polynomial and RBF models for closing price"
   ]
  },
  {
   "cell_type": "code",
   "execution_count": 2,
   "id": "861cce46",
   "metadata": {},
   "outputs": [],
   "source": [
    "import import_ipynb\n",
    "from sklearn.svm import SVR\n",
    "import numpy as np\n",
    "import pandas as pd\n",
    "import matplotlib.pyplot as plt"
   ]
  },
  {
   "cell_type": "code",
   "execution_count": 3,
   "id": "e63ee20f",
   "metadata": {},
   "outputs": [
    {
     "data": {
      "text/html": [
       "<div>\n",
       "<style scoped>\n",
       "    .dataframe tbody tr th:only-of-type {\n",
       "        vertical-align: middle;\n",
       "    }\n",
       "\n",
       "    .dataframe tbody tr th {\n",
       "        vertical-align: top;\n",
       "    }\n",
       "\n",
       "    .dataframe thead th {\n",
       "        text-align: right;\n",
       "    }\n",
       "</style>\n",
       "<table border=\"1\" class=\"dataframe\">\n",
       "  <thead>\n",
       "    <tr style=\"text-align: right;\">\n",
       "      <th></th>\n",
       "      <th>Date</th>\n",
       "      <th>Open</th>\n",
       "      <th>High</th>\n",
       "      <th>Low</th>\n",
       "      <th>Close</th>\n",
       "      <th>Volume</th>\n",
       "      <th>Adj Close</th>\n",
       "    </tr>\n",
       "  </thead>\n",
       "  <tbody>\n",
       "    <tr>\n",
       "      <th>0</th>\n",
       "      <td>6/29/2010</td>\n",
       "      <td>19.000000</td>\n",
       "      <td>25.000000</td>\n",
       "      <td>17.540001</td>\n",
       "      <td>23.889999</td>\n",
       "      <td>18766300</td>\n",
       "      <td>23.889999</td>\n",
       "    </tr>\n",
       "    <tr>\n",
       "      <th>1</th>\n",
       "      <td>6/30/2010</td>\n",
       "      <td>25.790001</td>\n",
       "      <td>30.420000</td>\n",
       "      <td>23.299999</td>\n",
       "      <td>23.830000</td>\n",
       "      <td>17187100</td>\n",
       "      <td>23.830000</td>\n",
       "    </tr>\n",
       "    <tr>\n",
       "      <th>2</th>\n",
       "      <td>7/1/2010</td>\n",
       "      <td>25.000000</td>\n",
       "      <td>25.920000</td>\n",
       "      <td>20.270000</td>\n",
       "      <td>21.959999</td>\n",
       "      <td>8218800</td>\n",
       "      <td>21.959999</td>\n",
       "    </tr>\n",
       "    <tr>\n",
       "      <th>3</th>\n",
       "      <td>7/2/2010</td>\n",
       "      <td>23.000000</td>\n",
       "      <td>23.100000</td>\n",
       "      <td>18.709999</td>\n",
       "      <td>19.200001</td>\n",
       "      <td>5139800</td>\n",
       "      <td>19.200001</td>\n",
       "    </tr>\n",
       "    <tr>\n",
       "      <th>4</th>\n",
       "      <td>7/6/2010</td>\n",
       "      <td>20.000000</td>\n",
       "      <td>20.000000</td>\n",
       "      <td>15.830000</td>\n",
       "      <td>16.110001</td>\n",
       "      <td>6866900</td>\n",
       "      <td>16.110001</td>\n",
       "    </tr>\n",
       "    <tr>\n",
       "      <th>...</th>\n",
       "      <td>...</td>\n",
       "      <td>...</td>\n",
       "      <td>...</td>\n",
       "      <td>...</td>\n",
       "      <td>...</td>\n",
       "      <td>...</td>\n",
       "      <td>...</td>\n",
       "    </tr>\n",
       "    <tr>\n",
       "      <th>95</th>\n",
       "      <td>11/11/2010</td>\n",
       "      <td>28.600000</td>\n",
       "      <td>29.100000</td>\n",
       "      <td>27.330000</td>\n",
       "      <td>28.040001</td>\n",
       "      <td>1945300</td>\n",
       "      <td>28.040001</td>\n",
       "    </tr>\n",
       "    <tr>\n",
       "      <th>96</th>\n",
       "      <td>11/12/2010</td>\n",
       "      <td>28.250000</td>\n",
       "      <td>30.500000</td>\n",
       "      <td>28.070000</td>\n",
       "      <td>29.840000</td>\n",
       "      <td>2729100</td>\n",
       "      <td>29.840000</td>\n",
       "    </tr>\n",
       "    <tr>\n",
       "      <th>97</th>\n",
       "      <td>11/15/2010</td>\n",
       "      <td>30.219999</td>\n",
       "      <td>32.939999</td>\n",
       "      <td>30.219999</td>\n",
       "      <td>30.799999</td>\n",
       "      <td>2622900</td>\n",
       "      <td>30.799999</td>\n",
       "    </tr>\n",
       "    <tr>\n",
       "      <th>98</th>\n",
       "      <td>11/16/2010</td>\n",
       "      <td>31.000000</td>\n",
       "      <td>31.400000</td>\n",
       "      <td>28.420000</td>\n",
       "      <td>29.670000</td>\n",
       "      <td>1347600</td>\n",
       "      <td>29.670000</td>\n",
       "    </tr>\n",
       "    <tr>\n",
       "      <th>99</th>\n",
       "      <td>11/17/2010</td>\n",
       "      <td>30.200001</td>\n",
       "      <td>30.750000</td>\n",
       "      <td>28.610001</td>\n",
       "      <td>29.490000</td>\n",
       "      <td>750000</td>\n",
       "      <td>29.490000</td>\n",
       "    </tr>\n",
       "  </tbody>\n",
       "</table>\n",
       "<p>100 rows × 7 columns</p>\n",
       "</div>"
      ],
      "text/plain": [
       "          Date       Open       High        Low      Close    Volume  \\\n",
       "0    6/29/2010  19.000000  25.000000  17.540001  23.889999  18766300   \n",
       "1    6/30/2010  25.790001  30.420000  23.299999  23.830000  17187100   \n",
       "2     7/1/2010  25.000000  25.920000  20.270000  21.959999   8218800   \n",
       "3     7/2/2010  23.000000  23.100000  18.709999  19.200001   5139800   \n",
       "4     7/6/2010  20.000000  20.000000  15.830000  16.110001   6866900   \n",
       "..         ...        ...        ...        ...        ...       ...   \n",
       "95  11/11/2010  28.600000  29.100000  27.330000  28.040001   1945300   \n",
       "96  11/12/2010  28.250000  30.500000  28.070000  29.840000   2729100   \n",
       "97  11/15/2010  30.219999  32.939999  30.219999  30.799999   2622900   \n",
       "98  11/16/2010  31.000000  31.400000  28.420000  29.670000   1347600   \n",
       "99  11/17/2010  30.200001  30.750000  28.610001  29.490000    750000   \n",
       "\n",
       "    Adj Close  \n",
       "0   23.889999  \n",
       "1   23.830000  \n",
       "2   21.959999  \n",
       "3   19.200001  \n",
       "4   16.110001  \n",
       "..        ...  \n",
       "95  28.040001  \n",
       "96  29.840000  \n",
       "97  30.799999  \n",
       "98  29.670000  \n",
       "99  29.490000  \n",
       "\n",
       "[100 rows x 7 columns]"
      ]
     },
     "execution_count": 3,
     "metadata": {},
     "output_type": "execute_result"
    }
   ],
   "source": [
    "tr = pd.read_csv (r'E:\\ML\\archive\\Tesla.csv - Tesla.csv.csv',nrows=100)\n",
    "tr"
   ]
  },
  {
   "cell_type": "code",
   "execution_count": 4,
   "id": "b4cdb3d0",
   "metadata": {},
   "outputs": [
    {
     "data": {
      "text/html": [
       "<div>\n",
       "<style scoped>\n",
       "    .dataframe tbody tr th:only-of-type {\n",
       "        vertical-align: middle;\n",
       "    }\n",
       "\n",
       "    .dataframe tbody tr th {\n",
       "        vertical-align: top;\n",
       "    }\n",
       "\n",
       "    .dataframe thead th {\n",
       "        text-align: right;\n",
       "    }\n",
       "</style>\n",
       "<table border=\"1\" class=\"dataframe\">\n",
       "  <thead>\n",
       "    <tr style=\"text-align: right;\">\n",
       "      <th></th>\n",
       "      <th>11/17/2010</th>\n",
       "      <th>30.200001</th>\n",
       "      <th>30.75</th>\n",
       "      <th>28.610001</th>\n",
       "      <th>29.49</th>\n",
       "      <th>750000</th>\n",
       "      <th>29.49.1</th>\n",
       "    </tr>\n",
       "  </thead>\n",
       "  <tbody>\n",
       "    <tr>\n",
       "      <th>0</th>\n",
       "      <td>11/18/2010</td>\n",
       "      <td>30.670000</td>\n",
       "      <td>30.740000</td>\n",
       "      <td>28.920000</td>\n",
       "      <td>29.889999</td>\n",
       "      <td>956100</td>\n",
       "      <td>29.889999</td>\n",
       "    </tr>\n",
       "    <tr>\n",
       "      <th>1</th>\n",
       "      <td>11/19/2010</td>\n",
       "      <td>30.160000</td>\n",
       "      <td>31.370001</td>\n",
       "      <td>29.700001</td>\n",
       "      <td>30.990000</td>\n",
       "      <td>1150500</td>\n",
       "      <td>30.990000</td>\n",
       "    </tr>\n",
       "    <tr>\n",
       "      <th>2</th>\n",
       "      <td>11/22/2010</td>\n",
       "      <td>31.570000</td>\n",
       "      <td>33.450001</td>\n",
       "      <td>31.500000</td>\n",
       "      <td>33.400002</td>\n",
       "      <td>1529700</td>\n",
       "      <td>33.400002</td>\n",
       "    </tr>\n",
       "    <tr>\n",
       "      <th>3</th>\n",
       "      <td>11/23/2010</td>\n",
       "      <td>33.290001</td>\n",
       "      <td>35.680000</td>\n",
       "      <td>32.189999</td>\n",
       "      <td>34.570000</td>\n",
       "      <td>1577800</td>\n",
       "      <td>34.570000</td>\n",
       "    </tr>\n",
       "    <tr>\n",
       "      <th>4</th>\n",
       "      <td>11/24/2010</td>\n",
       "      <td>35.270000</td>\n",
       "      <td>35.970001</td>\n",
       "      <td>34.330002</td>\n",
       "      <td>35.470001</td>\n",
       "      <td>1425000</td>\n",
       "      <td>35.470001</td>\n",
       "    </tr>\n",
       "    <tr>\n",
       "      <th>...</th>\n",
       "      <td>...</td>\n",
       "      <td>...</td>\n",
       "      <td>...</td>\n",
       "      <td>...</td>\n",
       "      <td>...</td>\n",
       "      <td>...</td>\n",
       "      <td>...</td>\n",
       "    </tr>\n",
       "    <tr>\n",
       "      <th>95</th>\n",
       "      <td>4/6/2011</td>\n",
       "      <td>26.990000</td>\n",
       "      <td>27.010000</td>\n",
       "      <td>25.799999</td>\n",
       "      <td>26.490000</td>\n",
       "      <td>1288300</td>\n",
       "      <td>26.490000</td>\n",
       "    </tr>\n",
       "    <tr>\n",
       "      <th>96</th>\n",
       "      <td>4/7/2011</td>\n",
       "      <td>26.850000</td>\n",
       "      <td>27.940001</td>\n",
       "      <td>26.450001</td>\n",
       "      <td>27.240000</td>\n",
       "      <td>2810300</td>\n",
       "      <td>27.240000</td>\n",
       "    </tr>\n",
       "    <tr>\n",
       "      <th>97</th>\n",
       "      <td>4/8/2011</td>\n",
       "      <td>27.580000</td>\n",
       "      <td>27.600000</td>\n",
       "      <td>26.360001</td>\n",
       "      <td>26.490000</td>\n",
       "      <td>1946400</td>\n",
       "      <td>26.490000</td>\n",
       "    </tr>\n",
       "    <tr>\n",
       "      <th>98</th>\n",
       "      <td>4/11/2011</td>\n",
       "      <td>26.469999</td>\n",
       "      <td>26.530001</td>\n",
       "      <td>25.020000</td>\n",
       "      <td>25.270000</td>\n",
       "      <td>1369400</td>\n",
       "      <td>25.270000</td>\n",
       "    </tr>\n",
       "    <tr>\n",
       "      <th>99</th>\n",
       "      <td>4/12/2011</td>\n",
       "      <td>25.080000</td>\n",
       "      <td>25.209999</td>\n",
       "      <td>24.299999</td>\n",
       "      <td>24.650000</td>\n",
       "      <td>1357400</td>\n",
       "      <td>24.650000</td>\n",
       "    </tr>\n",
       "  </tbody>\n",
       "</table>\n",
       "<p>100 rows × 7 columns</p>\n",
       "</div>"
      ],
      "text/plain": [
       "    11/17/2010  30.200001      30.75  28.610001      29.49   750000    29.49.1\n",
       "0   11/18/2010  30.670000  30.740000  28.920000  29.889999   956100  29.889999\n",
       "1   11/19/2010  30.160000  31.370001  29.700001  30.990000  1150500  30.990000\n",
       "2   11/22/2010  31.570000  33.450001  31.500000  33.400002  1529700  33.400002\n",
       "3   11/23/2010  33.290001  35.680000  32.189999  34.570000  1577800  34.570000\n",
       "4   11/24/2010  35.270000  35.970001  34.330002  35.470001  1425000  35.470001\n",
       "..         ...        ...        ...        ...        ...      ...        ...\n",
       "95    4/6/2011  26.990000  27.010000  25.799999  26.490000  1288300  26.490000\n",
       "96    4/7/2011  26.850000  27.940001  26.450001  27.240000  2810300  27.240000\n",
       "97    4/8/2011  27.580000  27.600000  26.360001  26.490000  1946400  26.490000\n",
       "98   4/11/2011  26.469999  26.530001  25.020000  25.270000  1369400  25.270000\n",
       "99   4/12/2011  25.080000  25.209999  24.299999  24.650000  1357400  24.650000\n",
       "\n",
       "[100 rows x 7 columns]"
      ]
     },
     "execution_count": 4,
     "metadata": {},
     "output_type": "execute_result"
    }
   ],
   "source": [
    "val = pd.read_csv (r'E:\\ML\\archive\\Tesla.csv - Tesla.csv.csv',skiprows=100,nrows=100)\n",
    "val"
   ]
  },
  {
   "cell_type": "code",
   "execution_count": 5,
   "id": "98c0ee3e",
   "metadata": {},
   "outputs": [
    {
     "data": {
      "text/html": [
       "<div>\n",
       "<style scoped>\n",
       "    .dataframe tbody tr th:only-of-type {\n",
       "        vertical-align: middle;\n",
       "    }\n",
       "\n",
       "    .dataframe tbody tr th {\n",
       "        vertical-align: top;\n",
       "    }\n",
       "\n",
       "    .dataframe thead th {\n",
       "        text-align: right;\n",
       "    }\n",
       "</style>\n",
       "<table border=\"1\" class=\"dataframe\">\n",
       "  <thead>\n",
       "    <tr style=\"text-align: right;\">\n",
       "      <th></th>\n",
       "      <th>4/12/2011</th>\n",
       "      <th>25.08</th>\n",
       "      <th>25.209999</th>\n",
       "      <th>24.299999</th>\n",
       "      <th>24.65</th>\n",
       "      <th>1357400</th>\n",
       "      <th>24.65.1</th>\n",
       "    </tr>\n",
       "  </thead>\n",
       "  <tbody>\n",
       "    <tr>\n",
       "      <th>0</th>\n",
       "      <td>4/13/2011</td>\n",
       "      <td>25.129999</td>\n",
       "      <td>25.690001</td>\n",
       "      <td>24.809999</td>\n",
       "      <td>24.930000</td>\n",
       "      <td>1211500</td>\n",
       "      <td>24.930000</td>\n",
       "    </tr>\n",
       "    <tr>\n",
       "      <th>1</th>\n",
       "      <td>4/14/2011</td>\n",
       "      <td>24.870001</td>\n",
       "      <td>25.280001</td>\n",
       "      <td>24.200001</td>\n",
       "      <td>25.139999</td>\n",
       "      <td>983400</td>\n",
       "      <td>25.139999</td>\n",
       "    </tr>\n",
       "    <tr>\n",
       "      <th>2</th>\n",
       "      <td>4/15/2011</td>\n",
       "      <td>25.650000</td>\n",
       "      <td>26.180000</td>\n",
       "      <td>25.410000</td>\n",
       "      <td>25.580000</td>\n",
       "      <td>943500</td>\n",
       "      <td>25.580000</td>\n",
       "    </tr>\n",
       "    <tr>\n",
       "      <th>3</th>\n",
       "      <td>4/18/2011</td>\n",
       "      <td>25.129999</td>\n",
       "      <td>25.620001</td>\n",
       "      <td>24.360001</td>\n",
       "      <td>25.030001</td>\n",
       "      <td>1033900</td>\n",
       "      <td>25.030001</td>\n",
       "    </tr>\n",
       "    <tr>\n",
       "      <th>4</th>\n",
       "      <td>4/19/2011</td>\n",
       "      <td>25.260000</td>\n",
       "      <td>25.260000</td>\n",
       "      <td>24.650000</td>\n",
       "      <td>25.160000</td>\n",
       "      <td>548700</td>\n",
       "      <td>25.160000</td>\n",
       "    </tr>\n",
       "    <tr>\n",
       "      <th>...</th>\n",
       "      <td>...</td>\n",
       "      <td>...</td>\n",
       "      <td>...</td>\n",
       "      <td>...</td>\n",
       "      <td>...</td>\n",
       "      <td>...</td>\n",
       "      <td>...</td>\n",
       "    </tr>\n",
       "    <tr>\n",
       "      <th>95</th>\n",
       "      <td>8/29/2011</td>\n",
       "      <td>24.219999</td>\n",
       "      <td>24.850000</td>\n",
       "      <td>24.020000</td>\n",
       "      <td>24.709999</td>\n",
       "      <td>803400</td>\n",
       "      <td>24.709999</td>\n",
       "    </tr>\n",
       "    <tr>\n",
       "      <th>96</th>\n",
       "      <td>8/30/2011</td>\n",
       "      <td>24.500000</td>\n",
       "      <td>24.770000</td>\n",
       "      <td>24.090000</td>\n",
       "      <td>24.629999</td>\n",
       "      <td>366200</td>\n",
       "      <td>24.629999</td>\n",
       "    </tr>\n",
       "    <tr>\n",
       "      <th>97</th>\n",
       "      <td>8/31/2011</td>\n",
       "      <td>24.799999</td>\n",
       "      <td>25.500000</td>\n",
       "      <td>24.280001</td>\n",
       "      <td>24.740000</td>\n",
       "      <td>823800</td>\n",
       "      <td>24.740000</td>\n",
       "    </tr>\n",
       "    <tr>\n",
       "      <th>98</th>\n",
       "      <td>9/1/2011</td>\n",
       "      <td>24.660000</td>\n",
       "      <td>24.870001</td>\n",
       "      <td>23.840000</td>\n",
       "      <td>24.000000</td>\n",
       "      <td>848100</td>\n",
       "      <td>24.000000</td>\n",
       "    </tr>\n",
       "    <tr>\n",
       "      <th>99</th>\n",
       "      <td>9/2/2011</td>\n",
       "      <td>23.660000</td>\n",
       "      <td>23.990000</td>\n",
       "      <td>22.680000</td>\n",
       "      <td>23.070000</td>\n",
       "      <td>769900</td>\n",
       "      <td>23.070000</td>\n",
       "    </tr>\n",
       "  </tbody>\n",
       "</table>\n",
       "<p>100 rows × 7 columns</p>\n",
       "</div>"
      ],
      "text/plain": [
       "    4/12/2011      25.08  25.209999  24.299999      24.65  1357400    24.65.1\n",
       "0   4/13/2011  25.129999  25.690001  24.809999  24.930000  1211500  24.930000\n",
       "1   4/14/2011  24.870001  25.280001  24.200001  25.139999   983400  25.139999\n",
       "2   4/15/2011  25.650000  26.180000  25.410000  25.580000   943500  25.580000\n",
       "3   4/18/2011  25.129999  25.620001  24.360001  25.030001  1033900  25.030001\n",
       "4   4/19/2011  25.260000  25.260000  24.650000  25.160000   548700  25.160000\n",
       "..        ...        ...        ...        ...        ...      ...        ...\n",
       "95  8/29/2011  24.219999  24.850000  24.020000  24.709999   803400  24.709999\n",
       "96  8/30/2011  24.500000  24.770000  24.090000  24.629999   366200  24.629999\n",
       "97  8/31/2011  24.799999  25.500000  24.280001  24.740000   823800  24.740000\n",
       "98   9/1/2011  24.660000  24.870001  23.840000  24.000000   848100  24.000000\n",
       "99   9/2/2011  23.660000  23.990000  22.680000  23.070000   769900  23.070000\n",
       "\n",
       "[100 rows x 7 columns]"
      ]
     },
     "execution_count": 5,
     "metadata": {},
     "output_type": "execute_result"
    }
   ],
   "source": [
    "ts = pd.read_csv (r'E:\\ML\\archive\\Tesla.csv - Tesla.csv.csv',skiprows=200,nrows=100)\n",
    "ts"
   ]
  },
  {
   "cell_type": "code",
   "execution_count": 6,
   "id": "f749ecdf",
   "metadata": {},
   "outputs": [],
   "source": [
    "days=list()\n",
    "close_p=list()"
   ]
  },
  {
   "cell_type": "code",
   "execution_count": 7,
   "id": "c2506902",
   "metadata": {},
   "outputs": [],
   "source": [
    "tr_days=tr.loc[:,'Date'] \n",
    "tr_close_p=tr.loc[:,'Adj Close']"
   ]
  },
  {
   "cell_type": "code",
   "execution_count": 8,
   "id": "43735dc2",
   "metadata": {},
   "outputs": [],
   "source": [
    "for i in tr_close_p:\n",
    "    close_p.append(float(i))"
   ]
  },
  {
   "cell_type": "code",
   "execution_count": 9,
   "id": "5807fa6f",
   "metadata": {},
   "outputs": [],
   "source": [
    "for i in range(1,len(close_p)+1):\n",
    "    days.append([i])"
   ]
  },
  {
   "cell_type": "code",
   "execution_count": 10,
   "id": "ba41d6a5",
   "metadata": {},
   "outputs": [
    {
     "data": {
      "text/plain": [
       "100"
      ]
     },
     "execution_count": 10,
     "metadata": {},
     "output_type": "execute_result"
    }
   ],
   "source": [
    "len(close_p)"
   ]
  },
  {
   "cell_type": "code",
   "execution_count": 11,
   "id": "2b82eedb",
   "metadata": {},
   "outputs": [
    {
     "data": {
      "text/plain": [
       "SVR(C=1000.0, gamma=0.85)"
      ]
     },
     "execution_count": 11,
     "metadata": {},
     "output_type": "execute_result"
    }
   ],
   "source": [
    "#Training \n",
    "lin_svr=SVR(kernel='linear',C=1000.0)\n",
    "lin_svr.fit(days,close_p) \n",
    "#linear svr\n",
    "\n",
    "poly_svr= SVR(kernel='poly', C=1000.0, degree=2)\n",
    "poly_svr.fit(days,close_p) \n",
    "#polynomial svr\n",
    "\n",
    "rbf_svr=SVR(kernel='rbf', C=1000.0, gamma=0.85)\n",
    "rbf_svr.fit(days,close_p) \n",
    "#RBF svr"
   ]
  },
  {
   "cell_type": "code",
   "execution_count": 12,
   "id": "cc20e2eb",
   "metadata": {},
   "outputs": [
    {
     "data": {
      "image/png": "[encoded data removed]",
      "text/plain": [
       "<Figure size 1152x576 with 1 Axes>"
      ]
     },
     "metadata": {
      "needs_background": "light"
     },
     "output_type": "display_data"
    }
   ],
   "source": [
    "#Plots\n",
    "plt.figure(figsize=(16,8))\n",
    "plt.scatter(days,close_p,color=\"black\",label=\"Data\")\n",
    "plt.plot(days,rbf_svr.predict(days),color=\"yellow\",label=\"RBF\")\n",
    "plt.plot(days,poly_svr.predict(days),color=\"green\",label=\"Polynomial\")\n",
    "plt.plot(days,lin_svr.predict(days),color=\"blue\",label=\"Linear\")\n",
    "plt.xlabel('Days')\n",
    "plt.ylabel('Close Price($)')\n",
    "plt.legend()\n",
    "plt.show()"
   ]
  },
  {
   "cell_type": "code",
   "execution_count": 13,
   "id": "33e7c14d",
   "metadata": {},
   "outputs": [
    {
     "data": {
      "text/plain": [
       "0     29.889999\n",
       "1     30.990000\n",
       "2     33.400002\n",
       "3     34.570000\n",
       "4     35.470001\n",
       "        ...    \n",
       "95    26.490000\n",
       "96    27.240000\n",
       "97    26.490000\n",
       "98    25.270000\n",
       "99    24.650000\n",
       "Name: 29.49, Length: 100, dtype: float64"
      ]
     },
     "execution_count": 13,
     "metadata": {},
     "output_type": "execute_result"
    }
   ],
   "source": [
    "value=val.loc[:,str(close_p[-1])]\n",
    "value"
   ]
  },
  {
   "cell_type": "code",
   "execution_count": 14,
   "id": "f5e0f1d4",
   "metadata": {},
   "outputs": [
    {
     "name": "stdout",
     "output_type": "stream",
     "text": [
      "[29.39027238] [21.6016665] [22.19491832] 29.889999\n"
     ]
    }
   ],
   "source": [
    "a=rbf_svr.predict([[100]])\n",
    "b=lin_svr.predict([[100]])\n",
    "c=poly_svr.predict([[100]])\n",
    "print(a,b,c,value[0])"
   ]
  },
  {
   "cell_type": "code",
   "execution_count": 20,
   "id": "5b57da3b",
   "metadata": {},
   "outputs": [
    {
     "data": {
      "text/plain": [
       "-4.211098430887725"
      ]
     },
     "execution_count": 20,
     "metadata": {},
     "output_type": "execute_result"
    }
   ],
   "source": [
    "#k-fold cross validation\n",
    "from sklearn.model_selection import cross_val_score\n",
    "from sklearn.metrics import max_error, make_scorer\n",
    "maxb=make_scorer(max_error, greater_is_better=False)\n",
    "score_L=cross_val_score(lin_svr,days,close_p,cv=5,scoring=maxb)\n",
    "score_L.mean()"
   ]
  },
  {
   "cell_type": "code",
   "execution_count": 21,
   "id": "28dc75fb",
   "metadata": {},
   "outputs": [
    {
     "data": {
      "text/plain": [
       "-4.320704549425951"
      ]
     },
     "execution_count": 21,
     "metadata": {},
     "output_type": "execute_result"
    }
   ],
   "source": [
    "score_P=cross_val_score(poly_svr,days,close_p,cv=5,scoring=maxb)\n",
    "score_P.mean()"
   ]
  },
  {
   "cell_type": "code",
   "execution_count": 22,
   "id": "396df437",
   "metadata": {},
   "outputs": [
    {
     "data": {
      "text/plain": [
       "-4.573717881918055"
      ]
     },
     "execution_count": 22,
     "metadata": {},
     "output_type": "execute_result"
    }
   ],
   "source": [
    "score_R=cross_val_score(rbf_svr,days,close_p,cv=5,scoring=maxboyy)\n",
    "score_R.mean()"
   ]
  }
 ],
 "metadata": {
  "kernelspec": {
   "display_name": "Python 3 (ipykernel)",
   "language": "python",
   "name": "python3"
  },
  "language_info": {
   "codemirror_mode": {
    "name": "ipython",
    "version": 3
   },
   "file_extension": ".py",
   "mimetype": "text/x-python",
   "name": "python",
   "nbconvert_exporter": "python",
   "pygments_lexer": "ipython3",
   "version": "3.9.7"
  }
 },
 "nbformat": 4,
 "nbformat_minor": 5
}
